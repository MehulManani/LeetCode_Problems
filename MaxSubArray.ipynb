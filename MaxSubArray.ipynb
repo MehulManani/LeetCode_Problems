{
  "metadata": {
    "language_info": {
      "codemirror_mode": {
        "name": "python",
        "version": 3
      },
      "file_extension": ".py",
      "mimetype": "text/x-python",
      "name": "python",
      "nbconvert_exporter": "python",
      "pygments_lexer": "ipython3",
      "version": "3.8"
    },
    "kernelspec": {
      "name": "python",
      "display_name": "Python (Pyodide)",
      "language": "python"
    }
  },
  "nbformat_minor": 4,
  "nbformat": 4,
  "cells": [
    {
      "cell_type": "markdown",
      "source": "# 53. Maximum Subarray",
      "metadata": {}
    },
    {
      "cell_type": "markdown",
      "source": "## Given an integer array nums, find the subarray\n## with the largest sum, and return its sum.",
      "metadata": {}
    },
    {
      "cell_type": "markdown",
      "source": "Example 1:\n\nInput: nums = [-2,1,-3,4,-1,2,1,-5,4]\nOutput: 6\nExplanation: The subarray [4,-1,2,1] has the largest sum 6.",
      "metadata": {}
    },
    {
      "cell_type": "markdown",
      "source": "Example 2:\n\nInput: nums = [1]\nOutput: 1\nExplanation: The subarray [1] has the largest sum 1.",
      "metadata": {}
    },
    {
      "cell_type": "markdown",
      "source": "Example 3:\n\nInput: nums = [5,4,-1,7,8]\nOutput: 23\nExplanation: The subarray [5,4,-1,7,8] has the largest sum 23.\n ",
      "metadata": {}
    },
    {
      "cell_type": "code",
      "source": "def maxSubArray(nums):\n    maxSum = nums[0]\n    currSum = nums[0]\n\n    for i in range(1, len(nums)):\n        if currSum < 0:\n            currSum = 0\n        currSum += nums[i]\n        if currSum > maxSum:\n            maxSum = currSum\n    return maxSum",
      "metadata": {
        "trusted": true
      },
      "execution_count": 1,
      "outputs": []
    },
    {
      "cell_type": "code",
      "source": "nums = [-2,1,-3,4,-1,2,1,-5,4]",
      "metadata": {
        "trusted": true
      },
      "execution_count": 2,
      "outputs": []
    },
    {
      "cell_type": "code",
      "source": "maxSubArray(nums)",
      "metadata": {
        "trusted": true
      },
      "execution_count": 3,
      "outputs": [
        {
          "execution_count": 3,
          "output_type": "execute_result",
          "data": {
            "text/plain": "6"
          },
          "metadata": {}
        }
      ]
    },
    {
      "cell_type": "code",
      "source": "",
      "metadata": {},
      "execution_count": null,
      "outputs": []
    }
  ]
}