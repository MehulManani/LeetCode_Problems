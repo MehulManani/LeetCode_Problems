{
  "metadata": {
    "language_info": {
      "codemirror_mode": {
        "name": "python",
        "version": 3
      },
      "file_extension": ".py",
      "mimetype": "text/x-python",
      "name": "python",
      "nbconvert_exporter": "python",
      "pygments_lexer": "ipython3",
      "version": "3.8"
    },
    "kernelspec": {
      "name": "python",
      "display_name": "Python (Pyodide)",
      "language": "python"
    }
  },
  "nbformat_minor": 4,
  "nbformat": 4,
  "cells": [
    {
      "cell_type": "markdown",
      "source": "# 121. Best Time to Buy and Sell Stock",
      "metadata": {}
    },
    {
      "cell_type": "markdown",
      "source": "## You are given an array prices where prices[i] is the price of a given stock on the ith day.\n\n## You want to maximize your profit by choosing a single day to buy one stock and choosing a different day in the future to sell that stock.\n\n## Return the maximum profit you can achieve from this transaction. If you cannot achieve any profit, return 0.",
      "metadata": {}
    },
    {
      "cell_type": "markdown",
      "source": "# Example 1:\n\nInput: prices = [7,1,5,3,6,4]\nOutput: 5\nExplanation: Buy on day 2 (price = 1) and sell on day 5 (price = 6), profit = 6-1 = 5.\nNote that buying on day 2 and selling on day 1 is not allowed because you must buy before you sell.",
      "metadata": {}
    },
    {
      "cell_type": "markdown",
      "source": "# Example 2:\n\nInput: prices = [7,6,4,3,1]\nOutput: 0\nExplanation: In this case, no transactions are done and the max profit = 0.",
      "metadata": {}
    },
    {
      "cell_type": "markdown",
      "source": "### Solution",
      "metadata": {}
    },
    {
      "cell_type": "code",
      "source": "def maxProfit(prices):\n    profit = 0\n    minBuyPrice = prices[0]\n    for i in range(1,len(prices)):\n        currProfit =  prices[i] - minBuyPrice\n        if currProfit > profit:\n            profit = currProfit\n        minBuyPrice = min(minBuyPrice, prices[i])\n    return profit\n",
      "metadata": {
        "trusted": true
      },
      "execution_count": 2,
      "outputs": []
    },
    {
      "cell_type": "code",
      "source": "prices = [7,1,5,3,6,4]",
      "metadata": {
        "trusted": true
      },
      "execution_count": 3,
      "outputs": []
    },
    {
      "cell_type": "code",
      "source": "maxProfit(prices)",
      "metadata": {
        "trusted": true
      },
      "execution_count": 4,
      "outputs": [
        {
          "execution_count": 4,
          "output_type": "execute_result",
          "data": {
            "text/plain": "5"
          },
          "metadata": {}
        }
      ]
    },
    {
      "cell_type": "code",
      "source": "",
      "metadata": {},
      "execution_count": null,
      "outputs": []
    }
  ]
}