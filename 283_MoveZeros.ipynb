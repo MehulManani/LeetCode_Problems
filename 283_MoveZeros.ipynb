{
  "metadata": {
    "language_info": {
      "codemirror_mode": {
        "name": "python",
        "version": 3
      },
      "file_extension": ".py",
      "mimetype": "text/x-python",
      "name": "python",
      "nbconvert_exporter": "python",
      "pygments_lexer": "ipython3",
      "version": "3.8"
    },
    "kernelspec": {
      "name": "python",
      "display_name": "Python (Pyodide)",
      "language": "python"
    }
  },
  "nbformat_minor": 4,
  "nbformat": 4,
  "cells": [
    {
      "cell_type": "markdown",
      "source": "# 283. Move Zeroes",
      "metadata": {}
    },
    {
      "cell_type": "markdown",
      "source": "## Given an integer array nums, move all 0's to the end of it while maintaining the relative order of the non-zero elements.\n\n## Note that you must do this in-place without making a copy of the array.",
      "metadata": {}
    },
    {
      "cell_type": "markdown",
      "source": "Example 1:\n\nInput: nums = [0,1,0,3,12]\nOutput: [1,3,12,0,0]",
      "metadata": {}
    },
    {
      "cell_type": "markdown",
      "source": "Example 2:\n\nInput: nums = [0]\nOutput: [0]",
      "metadata": {}
    },
    {
      "cell_type": "code",
      "source": "class Solution:\n    def moveZeroes(self, nums):\n        \"\"\"\n        Do not return anything, modify nums in-place instead.\n        \"\"\"\n        start = 0\n        for pos in range(len(nums)):\n            if nums[pos] != 0:\n                nums[pos], nums[start] = nums[start], nums[pos]\n                start += 1\n",
      "metadata": {
        "trusted": true
      },
      "execution_count": 3,
      "outputs": []
    },
    {
      "cell_type": "code",
      "source": "nums = [0,1,0,3,12] \ns = Solution()\n",
      "metadata": {
        "trusted": true
      },
      "execution_count": 8,
      "outputs": []
    },
    {
      "cell_type": "code",
      "source": "s.moveZeroes(nums)",
      "metadata": {
        "trusted": true
      },
      "execution_count": 10,
      "outputs": []
    },
    {
      "cell_type": "code",
      "source": "nums",
      "metadata": {
        "trusted": true
      },
      "execution_count": 12,
      "outputs": [
        {
          "execution_count": 12,
          "output_type": "execute_result",
          "data": {
            "text/plain": "[1, 3, 12, 0, 0]"
          },
          "metadata": {}
        }
      ]
    },
    {
      "cell_type": "code",
      "source": "",
      "metadata": {},
      "execution_count": null,
      "outputs": []
    }
  ]
}